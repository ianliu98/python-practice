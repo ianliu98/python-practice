{
 "cells": [
  {
   "cell_type": "code",
   "execution_count": 1,
   "id": "27e09b82",
   "metadata": {},
   "outputs": [
    {
     "name": "stdout",
     "output_type": "stream",
     "text": [
      "Input your first name please: ian\n",
      "The length of your first name is: 3\n",
      "Input your surname please: liu\n",
      "The length of your surname is: 3\n",
      "The full name is ian liu \n",
      "The length of the name is 7\n"
     ]
    }
   ],
   "source": [
    "#080\n",
    "first_name = input(\"Input your first name please: \")\n",
    "print(\"The length of your first name is:\", len(first_name))\n",
    "surname = input(\"Input your surname please: \")\n",
    "print(\"The length of your surname is:\", len(surname))\n",
    "full_name = first_name + ' ' + surname\n",
    "print(\"The full name is\", full_name, \"\\nThe length of the name is\", len(full_name))"
   ]
  },
  {
   "cell_type": "code",
   "execution_count": 2,
   "id": "7f5feaf8",
   "metadata": {},
   "outputs": [
    {
     "name": "stdout",
     "output_type": "stream",
     "text": [
      "Enter your favourite subject: sports\n",
      "So the subject is:\n",
      "\n",
      "s-p-o-r-t-s-"
     ]
    }
   ],
   "source": [
    "#081\n",
    "subject = input(\"Enter your favourite subject: \")\n",
    "print(\"So the subject is:\\n\")\n",
    "for i in subject:\n",
    "    print(i,end='-')"
   ]
  },
  {
   "cell_type": "code",
   "execution_count": 4,
   "id": "3a37a490",
   "metadata": {},
   "outputs": [
    {
     "name": "stdout",
     "output_type": "stream",
     "text": [
      "Input a line of text from your favorite poem: \n",
      "I sit here, alone\n",
      "Enter a start point: 3\n",
      "Enter a end point: 9\n",
      "Characters between these two points are: \n",
      " it her\n"
     ]
    }
   ],
   "source": [
    "#082\n",
    "poem = input(\"Input a line of text from your favorite poem: \\n\")\n",
    "start = int(input(\"Enter a start point: \"))\n",
    "end = int(input(\"Enter a end point: \"))\n",
    "print(\"Characters between these two points are: \\n\", poem[start:end])"
   ]
  },
  {
   "cell_type": "code",
   "execution_count": 5,
   "id": "53385b03",
   "metadata": {},
   "outputs": [
    {
     "name": "stdout",
     "output_type": "stream",
     "text": [
      "Enter a word in upper case:\n",
      "this\n",
      "Try again!\n",
      "Enter a word in upper case:\n",
      "THIS\n",
      "The word is THIS\n"
     ]
    }
   ],
   "source": [
    "#083\n",
    "tmp = 0\n",
    "while tmp==0:\n",
    "    word = input(\"Enter a word in upper case:\\n\")\n",
    "    tmp = word.isupper()\n",
    "    if tmp==0:\n",
    "        print(\"Try again!\")\n",
    "print(\"The word is\", word)"
   ]
  },
  {
   "cell_type": "code",
   "execution_count": 15,
   "id": "58fe1c76",
   "metadata": {},
   "outputs": [
    {
     "name": "stdout",
     "output_type": "stream",
     "text": [
      "Input your postcode:\n",
      "kyto999\n",
      "KYto999\n"
     ]
    }
   ],
   "source": [
    "#084\n",
    "postcode = input(\"Input your postcode:\\n\")\n",
    "postcode2 = postcode[0:2].upper()\n",
    "print(postcode2+postcode[2:])"
   ]
  },
  {
   "cell_type": "code",
   "execution_count": 30,
   "id": "c0436408",
   "metadata": {},
   "outputs": [
    {
     "name": "stdout",
     "output_type": "stream",
     "text": [
      "Input your name please:\n",
      "ian liu\n",
      "There is(are) 4 vowel(s) in your name.\n"
     ]
    }
   ],
   "source": [
    "#085\n",
    "name = input(\"Input your name please:\\n\")\n",
    "cnt = 0\n",
    "vowels = ['a','e','i','o','u']\n",
    "for letter in name:\n",
    "    if letter in vowels:\n",
    "        cnt = cnt + 1\n",
    "print(\"There is(are)\", cnt, \"vowel(s) in your name.\")"
   ]
  },
  {
   "cell_type": "code",
   "execution_count": 31,
   "id": "2d37a06c",
   "metadata": {},
   "outputs": [
    {
     "name": "stdout",
     "output_type": "stream",
     "text": [
      "Enter a new password:\n",
      "lemon1998\n",
      "Enter again:\n",
      "Lemon1998\n",
      "They must be in the same case\n"
     ]
    }
   ],
   "source": [
    "#086\n",
    "pwd = input(\"Enter a new password:\\n\")\n",
    "chk = input(\"Enter again:\\n\")\n",
    "if pwd==chk:\n",
    "    print(\"Thank you\")\n",
    "elif chk.upper()==pwd.upper():\n",
    "    print(\"They must be in the same case\")\n",
    "else:\n",
    "    print(\"Incorrect\")"
   ]
  },
  {
   "cell_type": "code",
   "execution_count": 34,
   "id": "8145e757",
   "metadata": {},
   "outputs": [
    {
     "name": "stdout",
     "output_type": "stream",
     "text": [
      "Input a word: hello\n",
      "o\n",
      "l\n",
      "l\n",
      "e\n",
      "h\n"
     ]
    }
   ],
   "source": [
    "#087\n",
    "word = input(\"Input a word: \")\n",
    "word_list = list(word)\n",
    "word_list.reverse()\n",
    "for i in word_list:\n",
    "    print(i)"
   ]
  }
 ],
 "metadata": {
  "kernelspec": {
   "display_name": "Python 3",
   "language": "python",
   "name": "python3"
  },
  "language_info": {
   "codemirror_mode": {
    "name": "ipython",
    "version": 3
   },
   "file_extension": ".py",
   "mimetype": "text/x-python",
   "name": "python",
   "nbconvert_exporter": "python",
   "pygments_lexer": "ipython3",
   "version": "3.8.8"
  }
 },
 "nbformat": 4,
 "nbformat_minor": 5
}
