{
 "cells": [
  {
   "cell_type": "code",
   "execution_count": 12,
   "id": "fb65957c",
   "metadata": {},
   "outputs": [
    {
     "name": "stdout",
     "output_type": "stream",
     "text": [
      "Enter a number: 123\n",
      "Enter a number: 234\n",
      "Enter a number: 12\n",
      "Enter a number: 34\n",
      "Enter a number: 1\n",
      "[234, 123, 34, 12, 1]\n"
     ]
    }
   ],
   "source": [
    "#088\n",
    "from array import *\n",
    "nums = array('i',[])\n",
    "for i in range(5):\n",
    "    num = int(input(\"Enter a number: \"))\n",
    "    nums.append(num)\n",
    "nums = sorted(nums)\n",
    "nums.reverse()\n",
    "print(nums)"
   ]
  },
  {
   "cell_type": "code",
   "execution_count": 16,
   "id": "75282be4",
   "metadata": {},
   "outputs": [
    {
     "name": "stdout",
     "output_type": "stream",
     "text": [
      "777\n",
      "54\n",
      "865\n",
      "232\n",
      "839\n"
     ]
    }
   ],
   "source": [
    "#089\n",
    "import random\n",
    "from array import *\n",
    "\n",
    "nums = array('i',[])\n",
    "for i in range(5):\n",
    "    num = random.randint(0,1000)\n",
    "    nums.append(num)\n",
    "for num in nums:\n",
    "    print(num)"
   ]
  },
  {
   "cell_type": "code",
   "execution_count": 17,
   "id": "ff6bbc89",
   "metadata": {},
   "outputs": [
    {
     "name": "stdout",
     "output_type": "stream",
     "text": [
      "Enter a number between 10 and 20: 17\n",
      "Enter a number between 10 and 20: 15\n",
      "Enter a number between 10 and 20: 99\n",
      "Out of range\n",
      "Enter a number between 10 and 20: 19\n",
      "Enter a number between 10 and 20: 11\n",
      "Enter a number between 10 and 20: 16\n",
      "Thank you\n",
      "17\n",
      "15\n",
      "19\n",
      "11\n",
      "16\n"
     ]
    }
   ],
   "source": [
    "#090\n",
    "from array import *\n",
    "tmp = 0\n",
    "nums = array('i',[])\n",
    "while tmp<5:\n",
    "    num = int(input(\"Enter a number between 10 and 20: \"))\n",
    "    if num<10 or num>20:\n",
    "        print(\"Out of range\")\n",
    "    else:\n",
    "        nums.append(num)\n",
    "        tmp = tmp + 1\n",
    "print(\"Thank you\")\n",
    "for num in nums:\n",
    "    print(num)"
   ]
  },
  {
   "cell_type": "code",
   "execution_count": 19,
   "id": "51be9c3f",
   "metadata": {},
   "outputs": [
    {
     "name": "stdout",
     "output_type": "stream",
     "text": [
      "array('i', [12, 15, 89, 15, 77])\n",
      "Enter one of these numbers: 15\n",
      "The number 15  appears 2  times in the list.\n"
     ]
    }
   ],
   "source": [
    "#091\n",
    "from array import *\n",
    "nums = array('i',[12, 15, 89, 15, 77])\n",
    "print(nums)\n",
    "num = int(input(\"Enter one of these numbers: \"))\n",
    "print(\"The number\", num, \" appears\", nums.count(num), \" times in the list.\")"
   ]
  },
  {
   "cell_type": "code",
   "execution_count": 26,
   "id": "1f7ccfb1",
   "metadata": {},
   "outputs": [
    {
     "name": "stdout",
     "output_type": "stream",
     "text": [
      "Enter 3 numbers.\n",
      "Enter a number: 157\n",
      "Enter a number: 789\n",
      "Enter a number: 170\n",
      "16\n",
      "40\n",
      "157\n",
      "170\n",
      "214\n",
      "277\n",
      "705\n",
      "789\n"
     ]
    }
   ],
   "source": [
    "#092\n",
    "import random\n",
    "from array import *\n",
    "ary1 = array('i',[])\n",
    "ary2 = array('i',[])\n",
    "ary_all = array('i',[])\n",
    "print(\"Enter 3 numbers.\")\n",
    "for i in range(3):\n",
    "    num = int(input(\"Enter a number: \"))\n",
    "    ary1.append(num)\n",
    "for i in range(5):\n",
    "    num = random.randint(0,1000)\n",
    "    ary2.append(num)\n",
    "ary1.extend(ary2)\n",
    "for num in sorted(ary1):\n",
    "    print(num)"
   ]
  },
  {
   "cell_type": "code",
   "execution_count": 33,
   "id": "d7a2762c",
   "metadata": {},
   "outputs": [
    {
     "name": "stdout",
     "output_type": "stream",
     "text": [
      "Enter 5 numbers:\n",
      "Number 1: 13\n",
      "Number 2: 1\n",
      "Number 3: 2791\n",
      "Number 4: 789\n",
      "Number 5: 47\n",
      "The numbers are [1, 13, 47, 789, 2791]\n",
      "Select one of them: 47\n",
      "The new array is: [1, 13, 789, 2791]\n"
     ]
    }
   ],
   "source": [
    "#093\n",
    "from array import *\n",
    "nums = array('i',[])\n",
    "print(\"Enter 5 numbers:\")\n",
    "for i in range(1,6):\n",
    "    num = int(input(\"Number \" + str(i) + \": \"))\n",
    "    nums.append(num)\n",
    "nums = sorted(nums)\n",
    "print(\"The numbers are\", nums)\n",
    "choose = int(input(\"Select one of them: \"))\n",
    "nums.remove(choose)\n",
    "nums2 = nums\n",
    "print(\"The new array is:\", nums2)"
   ]
  },
  {
   "cell_type": "code",
   "execution_count": 39,
   "id": "2c196b51",
   "metadata": {},
   "outputs": [
    {
     "name": "stdout",
     "output_type": "stream",
     "text": [
      "array('i', [19, 454, 123, 450, 13])\n",
      "select one of them: 451\n",
      "select one of them: 450\n",
      "The number 450  is at the position of 4\n"
     ]
    }
   ],
   "source": [
    "#094\n",
    "from array import *\n",
    "ary = array('i',[19, 454, 123, 450, 13])\n",
    "print(ary)\n",
    "num = []\n",
    "while num not in ary:\n",
    "    num = int(input(\"select one of them: \"))\n",
    "print(\"The number\", num, \" is at the position of\", ary.index(num)+1)"
   ]
  },
  {
   "cell_type": "code",
   "execution_count": 52,
   "id": "23338434",
   "metadata": {},
   "outputs": [
    {
     "name": "stdout",
     "output_type": "stream",
     "text": [
      "array('f', [64.01000213623047, 73.70999908447266, 48.25, 62.150001525878906, 89.0])\n",
      "Enter a number between 2 and 5: 5\n",
      "array('f', [12.802000045776367, 14.741999626159668, 9.649999618530273, 12.430000305175781, 17.799999237060547])\n"
     ]
    }
   ],
   "source": [
    "#095 -> cannot round array('f',[])\n",
    "from array import *\n",
    "import random\n",
    "ary = array('f',[])\n",
    "for i in range(5):\n",
    "    num = random.random() * 90 + 10\n",
    "    num = round(num,2)\n",
    "    ary.append(num)\n",
    "print(ary)\n",
    "dividen = 0\n",
    "while dividen<2 or dividen>5:\n",
    "    dividen = int(input(\"Enter a number between 2 and 5: \"))\n",
    "for i in range(len(ary)):\n",
    "    ary[i] = ary[i]/dividen\n",
    "print(ary)    "
   ]
  }
 ],
 "metadata": {
  "kernelspec": {
   "display_name": "Python 3",
   "language": "python",
   "name": "python3"
  },
  "language_info": {
   "codemirror_mode": {
    "name": "ipython",
    "version": 3
   },
   "file_extension": ".py",
   "mimetype": "text/x-python",
   "name": "python",
   "nbconvert_exporter": "python",
   "pygments_lexer": "ipython3",
   "version": "3.8.8"
  }
 },
 "nbformat": 4,
 "nbformat_minor": 5
}
