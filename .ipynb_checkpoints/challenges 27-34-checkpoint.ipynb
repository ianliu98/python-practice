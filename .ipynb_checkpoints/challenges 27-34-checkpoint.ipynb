{
 "cells": [
  {
   "cell_type": "code",
   "execution_count": 1,
   "id": "e83c2281",
   "metadata": {},
   "outputs": [
    {
     "name": "stdout",
     "output_type": "stream",
     "text": [
      "Input a decimal number: 87.981790182374891\n",
      "The number devided by 2 is: 43.99089509118745\n"
     ]
    }
   ],
   "source": [
    "#027\n",
    "print(\"The number devided by 2 is:\", float(input(\"Input a decimal number: \"))/2)"
   ]
  },
  {
   "cell_type": "code",
   "execution_count": 2,
   "id": "f072c1d7",
   "metadata": {},
   "outputs": [
    {
     "name": "stdout",
     "output_type": "stream",
     "text": [
      "Input a decimal number: 678.981704174\n",
      "The number devided by 2 is: 339.49 (rounded)\n"
     ]
    }
   ],
   "source": [
    "#028\n",
    "print(\"The number devided by 2 is:\", round(float(input(\"Input a decimal number: \"))/2,2), \"(rounded)\")"
   ]
  },
  {
   "cell_type": "code",
   "execution_count": 3,
   "id": "55d12a0a",
   "metadata": {},
   "outputs": [
    {
     "name": "stdout",
     "output_type": "stream",
     "text": [
      "Input an integer that is over 500: 526\n",
      "The square root of the number is: 22.93\n"
     ]
    }
   ],
   "source": [
    "#029\n",
    "import math\n",
    "print(\"The square root of the number is:\",round(math.sqrt(float(input(\"Input an integer that is over 500: \"))),2))"
   ]
  },
  {
   "cell_type": "code",
   "execution_count": 5,
   "id": "d6aa3a83",
   "metadata": {},
   "outputs": [
    {
     "name": "stdout",
     "output_type": "stream",
     "text": [
      "Input the radius of the circle: 4\n",
      "The area of the circle is: 50.26548245743669\n"
     ]
    }
   ],
   "source": [
    "#031\n",
    "import math\n",
    "print(\"The area of the circle is:\", math.pi*float(input(\"Input the radius of the circle: \"))**2)"
   ]
  },
  {
   "cell_type": "code",
   "execution_count": 7,
   "id": "c98d2960",
   "metadata": {},
   "outputs": [
    {
     "name": "stdout",
     "output_type": "stream",
     "text": [
      "Pi is:  3.14159\n"
     ]
    }
   ],
   "source": [
    "#030\n",
    "import math\n",
    "print(\"Pi is: \",round(math.pi,5))"
   ]
  },
  {
   "cell_type": "code",
   "execution_count": 8,
   "id": "d6bc051c",
   "metadata": {},
   "outputs": [
    {
     "name": "stdout",
     "output_type": "stream",
     "text": [
      "radius of a cylinder: 5\n",
      "depth of a cylinder: 17\n",
      "The volume of the cylinder is 1335.177\n"
     ]
    }
   ],
   "source": [
    "#032\n",
    "import math\n",
    "radius = float(input(\"radius of a cylinder: \"))\n",
    "depth = float(input(\"depth of a cylinder: \"))\n",
    "volume = math.pi * radius**2 * depth\n",
    "print(\"The volume of the cylinder is\", round(volume,3))"
   ]
  },
  {
   "cell_type": "code",
   "execution_count": 9,
   "id": "485a6d77",
   "metadata": {},
   "outputs": [
    {
     "name": "stdout",
     "output_type": "stream",
     "text": [
      "Input the first number: 168972346\n",
      "Input the second number: 1278\n",
      "168972346.0 devided by 1278.0  is  132216.0  with  298.0  remaining\n"
     ]
    }
   ],
   "source": [
    "#033\n",
    "num1 = float(input(\"Input the first number: \"))\n",
    "num2 = float(input(\"Input the second number: \"))\n",
    "print(num1, \"devided by\", num2, \" is \", num1//num2, \" with \", num1%num2, \" remaining\")"
   ]
  },
  {
   "cell_type": "code",
   "execution_count": 16,
   "id": "9e33d680",
   "metadata": {},
   "outputs": [
    {
     "name": "stdout",
     "output_type": "stream",
     "text": [
      "1) Square\n",
      "2) Triangle\n",
      "\n",
      "Enter a number: 1\n",
      "Input length of one sides: 14\n",
      "The area is 196.0\n"
     ]
    }
   ],
   "source": [
    "#034\n",
    "print(\"\"\"1) Square\n",
    "2) Triangle\n",
    "\"\"\")\n",
    "num = int(input(\"Enter a number: \"))\n",
    "if num==1:\n",
    "    length = float(input(\"Input length of one sides: \"))\n",
    "    print(\"The area is\", length**2)\n",
    "else:\n",
    "    if num==2:\n",
    "        base = float(input(\"Input length of base: \"))\n",
    "        height = float(input(\"Input length of height: \"))\n",
    "        print(\"The area is\", base*height*0.5)\n",
    "    else:\n",
    "        print(\"Error Choice!\")"
   ]
  }
 ],
 "metadata": {
  "kernelspec": {
   "display_name": "Python 3",
   "language": "python",
   "name": "python3"
  },
  "language_info": {
   "codemirror_mode": {
    "name": "ipython",
    "version": 3
   },
   "file_extension": ".py",
   "mimetype": "text/x-python",
   "name": "python",
   "nbconvert_exporter": "python",
   "pygments_lexer": "ipython3",
   "version": "3.8.8"
  }
 },
 "nbformat": 4,
 "nbformat_minor": 5
}
