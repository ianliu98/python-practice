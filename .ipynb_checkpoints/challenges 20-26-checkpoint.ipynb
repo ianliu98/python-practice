{
 "cells": [
  {
   "cell_type": "code",
   "execution_count": 1,
   "id": "bb1286d1",
   "metadata": {},
   "outputs": [
    {
     "name": "stdout",
     "output_type": "stream",
     "text": [
      "Input your first name: ian\n",
      "The length of your first name is 3\n"
     ]
    }
   ],
   "source": [
    "name = input(\"Input your first name: \")\n",
    "print(\"The length of your first name is\", len(name))"
   ]
  },
  {
   "cell_type": "code",
   "execution_count": 2,
   "id": "cf3149bb",
   "metadata": {},
   "outputs": [
    {
     "name": "stdout",
     "output_type": "stream",
     "text": [
      "Input your first name:\n",
      "ian\n",
      "Input your sur name:\n",
      "liu\n",
      "The name is ian liu ; the length of the name is 6\n"
     ]
    }
   ],
   "source": [
    "first_name = input(\"Input your first name:\\n\")\n",
    "sur_name = input(\"Input your sur name:\\n\")\n",
    "print(\"The name is\", first_name+' '+sur_name,\"; the length of the name is\",len(first_name+sur_name))"
   ]
  },
  {
   "cell_type": "code",
   "execution_count": 3,
   "id": "38c42865",
   "metadata": {},
   "outputs": [
    {
     "name": "stdout",
     "output_type": "stream",
     "text": [
      "Input your first name in lower case:\n",
      "ian\n",
      "Input your surname in lower case:\n",
      "liu\n",
      "The name is Ian Liu\n"
     ]
    }
   ],
   "source": [
    "first_name = input(\"Input your first name in lower case:\\n\")\n",
    "sur_name = input(\"Input your surname in lower case:\\n\")\n",
    "full_name = first_name + ' ' + sur_name\n",
    "full_name = full_name.title()\n",
    "print(\"The name is\",full_name)"
   ]
  },
  {
   "cell_type": "code",
   "execution_count": 4,
   "id": "ea62f498",
   "metadata": {},
   "outputs": [
    {
     "name": "stdout",
     "output_type": "stream",
     "text": [
      "Input a nursery rhyme:\n",
      "Twinkle Twinkle Little Star\n",
      "Input a start number: 5\n",
      "Input a end number: 9\n",
      "The output is: le T\n"
     ]
    }
   ],
   "source": [
    "rythm = input(\"Input a nursery rhyme:\\n\")\n",
    "start = int(input(\"Input a start number: \"))\n",
    "end = int(input(\"Input a end number: \"))\n",
    "print(\"The output is:\",rythm[start:end])"
   ]
  },
  {
   "cell_type": "code",
   "execution_count": 5,
   "id": "357f2331",
   "metadata": {},
   "outputs": [
    {
     "name": "stdout",
     "output_type": "stream",
     "text": [
      "Input a word: ian\n",
      "The word is IAN  in upper case\n"
     ]
    }
   ],
   "source": [
    "print(\"The word is\",input(\"Input a word: \").upper(),\" in upper case\")"
   ]
  },
  {
   "cell_type": "code",
   "execution_count": 6,
   "id": "9e5e90e9",
   "metadata": {},
   "outputs": [
    {
     "name": "stdout",
     "output_type": "stream",
     "text": [
      "Input your first nameian\n",
      "Input your surnameliu\n",
      "The name is IANLIU\n"
     ]
    }
   ],
   "source": [
    "first_name = input(\"Input your first name\")\n",
    "if len(first_name)<5:\n",
    "    sur_name = input(\"Input your surname\")\n",
    "    full_name = first_name+sur_name\n",
    "    print(\"The name is\", full_name.upper())\n",
    "else:\n",
    "    print(\"The first name is\", first_name.lower())"
   ]
  },
  {
   "cell_type": "code",
   "execution_count": 8,
   "id": "7f7648a6",
   "metadata": {},
   "outputs": [
    {
     "name": "stdout",
     "output_type": "stream",
     "text": [
      "Pig Latin Conversion\n",
      "Input a word:\n",
      "cat\n",
      "The new word is: atcay\n"
     ]
    }
   ],
   "source": [
    "print(\"Pig Latin Conversion\")\n",
    "word = input(\"Input a word:\\n\")\n",
    "letter = word[0]\n",
    "if letter=='a' or letter=='e' or letter=='i' or letter=='o' or letter=='u':\n",
    "    print(\"The new word is:\",word+'way')\n",
    "else:\n",
    "    print(\"The new word is:\",word[1:]+word[0]+'ay')"
   ]
  }
 ],
 "metadata": {
  "kernelspec": {
   "display_name": "Python 3",
   "language": "python",
   "name": "python3"
  },
  "language_info": {
   "codemirror_mode": {
    "name": "ipython",
    "version": 3
   },
   "file_extension": ".py",
   "mimetype": "text/x-python",
   "name": "python",
   "nbconvert_exporter": "python",
   "pygments_lexer": "ipython3",
   "version": "3.8.8"
  }
 },
 "nbformat": 4,
 "nbformat_minor": 5
}
