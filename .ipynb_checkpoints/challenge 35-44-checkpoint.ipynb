{
 "cells": [
  {
   "cell_type": "code",
   "execution_count": 2,
   "id": "fabe52fd",
   "metadata": {},
   "outputs": [
    {
     "name": "stdout",
     "output_type": "stream",
     "text": [
      "Input your name: ian\n",
      "ian\n",
      "ian\n",
      "ian\n"
     ]
    }
   ],
   "source": [
    "#035\n",
    "name = input(\"Input your name: \")\n",
    "for i in range(3):\n",
    "    print(name)"
   ]
  },
  {
   "cell_type": "code",
   "execution_count": 4,
   "id": "7ab9aa5c",
   "metadata": {},
   "outputs": [
    {
     "name": "stdout",
     "output_type": "stream",
     "text": [
      "Input your name: ian\n",
      "Inpur a number: 7\n",
      "ian\n",
      "ian\n",
      "ian\n",
      "ian\n",
      "ian\n",
      "ian\n",
      "ian\n"
     ]
    }
   ],
   "source": [
    "#036\n",
    "name = input(\"Input your name: \")\n",
    "num = int(input(\"Inpur a number: \"))\n",
    "for i in range(num):\n",
    "    print(name)"
   ]
  },
  {
   "cell_type": "code",
   "execution_count": 5,
   "id": "64ca3e9b",
   "metadata": {},
   "outputs": [
    {
     "name": "stdout",
     "output_type": "stream",
     "text": [
      "Input your name: ian\n",
      "i\n",
      "a\n",
      "n\n"
     ]
    }
   ],
   "source": [
    "#037\n",
    "name = input(\"Input your name: \")\n",
    "for i in name:\n",
    "    print(i)"
   ]
  },
  {
   "cell_type": "code",
   "execution_count": 6,
   "id": "fc165864",
   "metadata": {},
   "outputs": [
    {
     "name": "stdout",
     "output_type": "stream",
     "text": [
      "Input your name: ian\n",
      "Input a number: 3\n",
      "i\n",
      "a\n",
      "n\n",
      "i\n",
      "a\n",
      "n\n",
      "i\n",
      "a\n",
      "n\n"
     ]
    }
   ],
   "source": [
    "#038\n",
    "name = input(\"Input your name: \")\n",
    "num = int(input(\"Input a number: \"))\n",
    "for i in range(num):\n",
    "    for j in name:\n",
    "        print(j)"
   ]
  },
  {
   "cell_type": "code",
   "execution_count": null,
   "id": "9f1c68dd",
   "metadata": {},
   "outputs": [],
   "source": [
    "#039\n"
   ]
  }
 ],
 "metadata": {
  "kernelspec": {
   "display_name": "Python 3",
   "language": "python",
   "name": "python3"
  },
  "language_info": {
   "codemirror_mode": {
    "name": "ipython",
    "version": 3
   },
   "file_extension": ".py",
   "mimetype": "text/x-python",
   "name": "python",
   "nbconvert_exporter": "python",
   "pygments_lexer": "ipython3",
   "version": "3.8.8"
  }
 },
 "nbformat": 4,
 "nbformat_minor": 5
}
