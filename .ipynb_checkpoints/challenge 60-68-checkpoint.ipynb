{
 "cells": [
  {
   "cell_type": "code",
   "execution_count": 4,
   "id": "2fcdd1ee",
   "metadata": {},
   "outputs": [],
   "source": [
    "import turtle\n",
    "turtle.shape(\"turtle\")\n",
    "for i in range(0,5):\n",
    "    turtle.forward(100)\n",
    "    turtle.right(72)\n",
    "turtle.exitonclick()"
   ]
  },
  {
   "cell_type": "code",
   "execution_count": 8,
   "id": "b77e9372",
   "metadata": {},
   "outputs": [],
   "source": [
    "import turtle\n",
    "turtle.shape(\"turtle\")\n",
    "for i in range(0,10):\n",
    "    turtle.right(36)\n",
    "    for i in range(0,5):\n",
    "        turtle.forward(100)\n",
    "        turtle.right(72)\n",
    "\n",
    "turtle.exitonclick()"
   ]
  },
  {
   "cell_type": "code",
   "execution_count": 7,
   "id": "aff272e9",
   "metadata": {},
   "outputs": [],
   "source": [
    "# 062\n",
    "import turtle\n",
    "\n",
    "for i in range(360):\n",
    "    turtle.forward(1)\n",
    "    turtle.right(1)\n",
    "\n",
    "turtle.exitonclick()"
   ]
  },
  {
   "cell_type": "code",
   "execution_count": 11,
   "id": "4e00da05",
   "metadata": {},
   "outputs": [],
   "source": [
    "#061\n",
    "import turtle\n",
    "\n",
    "for i in range(3):\n",
    "    turtle.forward(100)\n",
    "    turtle.right(120)\n",
    "    \n",
    "turtle.exitonclick()"
   ]
  },
  {
   "cell_type": "code",
   "execution_count": 13,
   "id": "d8e79596",
   "metadata": {},
   "outputs": [],
   "source": [
    "#060\n",
    "for i in range(4):\n",
    "    turtle.forward(100)\n",
    "    turtle.left(90)\n",
    "    \n",
    "turtle.exitonclick()"
   ]
  },
  {
   "cell_type": "code",
   "execution_count": 15,
   "id": "5540efdf",
   "metadata": {},
   "outputs": [],
   "source": [
    "#063\n",
    "import turtle\n",
    "\n",
    "turtle.color(\"black\",\"red\")\n",
    "turtle.begin_fill()\n",
    "for i in range(4):\n",
    "    turtle.forward(100)\n",
    "    turtle.right(90)\n",
    "turtle.end_fill()\n",
    "\n",
    "turtle.penup()\n",
    "turtle.forward(120)\n",
    "turtle.pendown()\n",
    "turtle.color(\"black\",\"blue\")\n",
    "turtle.begin_fill()\n",
    "for i in range(4):\n",
    "    turtle.forward(100)\n",
    "    turtle.right(90)\n",
    "turtle.end_fill()\n",
    "\n",
    "turtle.penup()\n",
    "turtle.forward(120)\n",
    "turtle.pendown()\n",
    "turtle.color(\"black\",\"green\")\n",
    "turtle.begin_fill()\n",
    "for i in range(4):\n",
    "    turtle.forward(100)\n",
    "    turtle.right(90)\n",
    "turtle.end_fill()\n",
    "\n",
    "turtle.exitonclick()"
   ]
  },
  {
   "cell_type": "code",
   "execution_count": 27,
   "id": "13bf2ef5",
   "metadata": {},
   "outputs": [],
   "source": [
    "#064\n",
    "import turtle\n",
    "\n",
    "turtle.color(\"black\",\"red\")\n",
    "turtle.begin_fill()\n",
    "for i in range(5):\n",
    "    turtle.forward(100)\n",
    "    turtle.right(144)\n",
    "turtle.end_fill()\n",
    "\n",
    "turtle.exitonclick()"
   ]
  },
  {
   "cell_type": "code",
   "execution_count": 42,
   "id": "8afd4f19",
   "metadata": {},
   "outputs": [],
   "source": [
    "#065\n",
    "import turtle\n",
    "\n",
    "turtle.left(90)\n",
    "turtle.forward(100)\n",
    "\n",
    "turtle.right(90)\n",
    "turtle.penup()\n",
    "turtle.forward(50)\n",
    "turtle.pendown()\n",
    "turtle.forward(80)\n",
    "turtle.right(90)\n",
    "turtle.forward(50)\n",
    "turtle.right(90)\n",
    "turtle.forward(80)\n",
    "turtle.left(90)\n",
    "turtle.forward(50)\n",
    "turtle.left(90)\n",
    "turtle.forward(80)\n",
    "\n",
    "turtle.penup()\n",
    "turtle.forward(50)\n",
    "turtle.pendown()\n",
    "turtle.forward(80)\n",
    "turtle.left(90)\n",
    "turtle.forward(50)\n",
    "turtle.left(90)\n",
    "turtle.forward(50)\n",
    "turtle.right(180)\n",
    "turtle.forward(50)\n",
    "turtle.left(90)\n",
    "turtle.forward(50)\n",
    "turtle.left(90)\n",
    "turtle.forward(80)\n",
    "\n",
    "turtle.exitonclick()"
   ]
  },
  {
   "cell_type": "code",
   "execution_count": 40,
   "id": "52d218fc",
   "metadata": {},
   "outputs": [],
   "source": [
    "#066\n",
    "import turtle\n",
    "import random\n",
    "\n",
    "colors = [\"black\", \"red\", \"blue\", \"yellow\", \"green\", \"purple\"]\n",
    "turtle.pensize(5)\n",
    "for i in range(8):\n",
    "    turtle.color(random.choice(colors))\n",
    "    turtle.begin_fill()\n",
    "    turtle.forward(100)\n",
    "    turtle.right(45)\n",
    "    turtle.end_fill()\n",
    "\n",
    "turtle.exitonclick()"
   ]
  },
  {
   "cell_type": "code",
   "execution_count": 44,
   "id": "0b6c1441",
   "metadata": {},
   "outputs": [],
   "source": [
    "#67\n",
    "import turtle\n",
    "\n",
    "turtle.pensize(3)\n",
    "\n",
    "for i in range(10):\n",
    "    turtle.right(36)\n",
    "    for i in range(8):\n",
    "        turtle.forward(30)\n",
    "        turtle.right(45)\n",
    "\n",
    "turtle.exitonclick()"
   ]
  },
  {
   "cell_type": "code",
   "execution_count": 50,
   "id": "39a64270",
   "metadata": {},
   "outputs": [],
   "source": [
    "#068\n",
    "import random\n",
    "import turtle\n",
    "\n",
    "num = random.randint(3,10)\n",
    "for i in range(num):\n",
    "    turtle.forward(random.randint(0,100))\n",
    "    turtle.right(random.randint(0,360))\n",
    "\n",
    "turtle.exitonclick()"
   ]
  }
 ],
 "metadata": {
  "kernelspec": {
   "display_name": "Python 3",
   "language": "python",
   "name": "python3"
  },
  "language_info": {
   "codemirror_mode": {
    "name": "ipython",
    "version": 3
   },
   "file_extension": ".py",
   "mimetype": "text/x-python",
   "name": "python",
   "nbconvert_exporter": "python",
   "pygments_lexer": "ipython3",
   "version": "3.8.8"
  }
 },
 "nbformat": 4,
 "nbformat_minor": 5
}
