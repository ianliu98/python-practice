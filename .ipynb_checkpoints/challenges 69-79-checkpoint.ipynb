{
 "cells": [
  {
   "cell_type": "code",
   "execution_count": 5,
   "id": "7f10422c",
   "metadata": {},
   "outputs": [
    {
     "name": "stdout",
     "output_type": "stream",
     "text": [
      "('China', 'Japan', 'Russia', 'America', 'Brazil')\n",
      "Enter a country: America\n",
      "The index of America  is 3\n"
     ]
    }
   ],
   "source": [
    "#069\n",
    "country = (\"China\", \"Japan\", \"Russia\", \"America\", \"Brazil\")\n",
    "print(country)\n",
    "choice = input(\"Enter a country: \")\n",
    "print(\"The index of\", choice, \" is\", country.index(choice))"
   ]
  },
  {
   "cell_type": "code",
   "execution_count": 6,
   "id": "fb682d0a",
   "metadata": {},
   "outputs": [
    {
     "name": "stdout",
     "output_type": "stream",
     "text": [
      "('China', 'Japan', 'Russia', 'America', 'Brazil')\n",
      "Enter a country: Brazil\n",
      "The index of Brazil  is 4\n",
      "Enter a position number: 1\n",
      "The country at position 1  is Japan\n"
     ]
    }
   ],
   "source": [
    "#070\n",
    "country = (\"China\", \"Japan\", \"Russia\", \"America\", \"Brazil\")\n",
    "print(country)\n",
    "choice = input(\"Enter a country: \")\n",
    "print(\"The index of\", choice, \" is\", country.index(choice))\n",
    "\n",
    "posi = int(input(\"Enter a position number: \"))\n",
    "print(\"The country at position\",posi,\" is\",country[posi])"
   ]
  },
  {
   "cell_type": "code",
   "execution_count": 8,
   "id": "4d534342",
   "metadata": {},
   "outputs": [
    {
     "name": "stdout",
     "output_type": "stream",
     "text": [
      "What is your favorite sport? volleyball\n",
      "['basketball', 'football', 'volleyball']\n"
     ]
    }
   ],
   "source": [
    "#071\n",
    "sports_list = [\"football\", \"basketball\"]\n",
    "ans = input(\"What is your favorite sport? \")\n",
    "sports_list.append(ans)\n",
    "print(sorted(sports_list))"
   ]
  },
  {
   "cell_type": "code",
   "execution_count": null,
   "id": "1cd12f2c",
   "metadata": {},
   "outputs": [],
   "source": [
    "#072\n"
   ]
  }
 ],
 "metadata": {
  "kernelspec": {
   "display_name": "Python 3",
   "language": "python",
   "name": "python3"
  },
  "language_info": {
   "codemirror_mode": {
    "name": "ipython",
    "version": 3
   },
   "file_extension": ".py",
   "mimetype": "text/x-python",
   "name": "python",
   "nbconvert_exporter": "python",
   "pygments_lexer": "ipython3",
   "version": "3.8.8"
  }
 },
 "nbformat": 4,
 "nbformat_minor": 5
}
