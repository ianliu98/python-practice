{
 "cells": [
  {
   "cell_type": "code",
   "execution_count": 66,
   "id": "a03f14dc",
   "metadata": {},
   "outputs": [
    {
     "data": {
      "text/plain": [
       "29"
      ]
     },
     "execution_count": 66,
     "metadata": {},
     "output_type": "execute_result"
    }
   ],
   "source": [
    "#052\n",
    "import random\n",
    "random.randint(1,100)"
   ]
  },
  {
   "cell_type": "code",
   "execution_count": 69,
   "id": "b91d954f",
   "metadata": {},
   "outputs": [
    {
     "data": {
      "text/plain": [
       "'banana'"
      ]
     },
     "execution_count": 69,
     "metadata": {},
     "output_type": "execute_result"
    }
   ],
   "source": [
    "#053\n",
    "random.choice([\"apple\",\"pear\",\"banana\",\"orange\",\"grape\"])"
   ]
  },
  {
   "cell_type": "code",
   "execution_count": 73,
   "id": "125aae8f",
   "metadata": {},
   "outputs": [
    {
     "name": "stdout",
     "output_type": "stream",
     "text": [
      "heads[h] or tails[t]: t\n",
      "Bad luck\n",
      "The result is h\n"
     ]
    }
   ],
   "source": [
    "#054\n",
    "choice = input(\"heads[h] or tails[t]: \")\n",
    "rnd = random.choice([\"h\", \"t\"])\n",
    "if choice == rnd:\n",
    "    print(\"You win\")\n",
    "else:\n",
    "    print(\"Bad luck\")\n",
    "print(\"The result is\", rnd)"
   ]
  },
  {
   "cell_type": "code",
   "execution_count": 74,
   "id": "5c0608e4",
   "metadata": {},
   "outputs": [
    {
     "name": "stdout",
     "output_type": "stream",
     "text": [
      "Pick a number between 1 and 5: 4\n",
      "Guess again: 2\n",
      "Correct\n",
      "\n",
      "The answer is 2\n"
     ]
    }
   ],
   "source": [
    "#055\n",
    "rnd = random.randint(1,5)\n",
    "guess = int(input(\"Pick a number between 1 and 5: \"))\n",
    "if guess==rnd:\n",
    "    print(\"well done\")\n",
    "else:\n",
    "    guess = int(input(\"Guess again: \"))\n",
    "    if guess == rnd:\n",
    "        print(\"Correct\")\n",
    "    else:\n",
    "        print(\"You lose\")\n",
    "print(\"\\nThe answer is\", rnd)"
   ]
  },
  {
   "cell_type": "code",
   "execution_count": 76,
   "id": "61095065",
   "metadata": {},
   "outputs": [
    {
     "name": "stdout",
     "output_type": "stream",
     "text": [
      "Input a number: 8\n",
      "Input a number: 7\n",
      "Input a number: 6\n",
      "Input a number: 5\n",
      "Input a number: 4\n",
      "Input a number: 3\n",
      "Input a number: 2\n",
      "Input a number: 1\n",
      "Input a number: 9\n",
      "\n",
      "The answer is 9\n"
     ]
    }
   ],
   "source": [
    "#056\n",
    "rnd = random.randint(1,10)\n",
    "num = 0\n",
    "while num!=rnd:\n",
    "    num = int(input(\"Input a number: \"))\n",
    "print(\"\\nThe answer is\", num)"
   ]
  },
  {
   "cell_type": "code",
   "execution_count": 78,
   "id": "f695c434",
   "metadata": {},
   "outputs": [
    {
     "name": "stdout",
     "output_type": "stream",
     "text": [
      "Input a number: 17\n",
      "Too high\n",
      "Input a number: 4\n",
      "Too high\n",
      "Input a number: 2\n",
      "Too high\n",
      "Input a number: 1\n",
      "\n",
      "The answer is 1\n"
     ]
    }
   ],
   "source": [
    "#057\n",
    "rnd = random.randint(1,10)\n",
    "num = 0\n",
    "while num!=rnd:\n",
    "    num = int(input(\"Input a number: \"))\n",
    "    if num<rnd:\n",
    "        print(\"Too low\")\n",
    "    elif num>rnd:\n",
    "        print(\"Too high\")\n",
    "print(\"\\nThe answer is\", num)"
   ]
  },
  {
   "cell_type": "code",
   "execution_count": 79,
   "id": "c1e130e9",
   "metadata": {},
   "outputs": [
    {
     "name": "stdout",
     "output_type": "stream",
     "text": [
      "83 + 22 = 105\n",
      "32 + 1 = 33\n",
      "36 + 26 = 62\n",
      "5 + 87 = 92\n",
      "81 + 27 = 108\n",
      "Your score is: 5\n"
     ]
    }
   ],
   "source": [
    "#058\n",
    "cnt = 0\n",
    "for i in range(5):\n",
    "    num1 = random.randint(1,100)\n",
    "    num2 = random.randint(1,100)\n",
    "    ans = int(input(str(num1) + \" + \" + str(num2) + \" = \"))\n",
    "    if ans == num1+num2:\n",
    "        cnt += 1\n",
    "print(\"Your score is:\",cnt)"
   ]
  },
  {
   "cell_type": "code",
   "execution_count": 82,
   "id": "c3232d7b",
   "metadata": {},
   "outputs": [
    {
     "name": "stdout",
     "output_type": "stream",
     "text": [
      "choose one color from ['black', 'red', 'blue', 'green', 'yellow']blue\n",
      "I bet you are red  with envy\n",
      "choose again from ['black', 'red', 'blue', 'green', 'yellow']yellow\n",
      "I bet you are red  with envy\n",
      "choose again from ['black', 'red', 'blue', 'green', 'yellow']red\n",
      "Well done\n"
     ]
    }
   ],
   "source": [
    "#059\n",
    "colors = [\"black\", \"red\", \"blue\", \"green\", \"yellow\"]\n",
    "rnd = random.choice(colors)\n",
    "chc = input(\"choose one color from \" + str(colors) )\n",
    "while chc!=rnd:\n",
    "    print(\"I bet you are\", rnd, \" with envy\")\n",
    "    chc = input(\"choose again from \" + str(colors) )\n",
    "print(\"Well done\")"
   ]
  }
 ],
 "metadata": {
  "kernelspec": {
   "display_name": "Python 3",
   "language": "python",
   "name": "python3"
  },
  "language_info": {
   "codemirror_mode": {
    "name": "ipython",
    "version": 3
   },
   "file_extension": ".py",
   "mimetype": "text/x-python",
   "name": "python",
   "nbconvert_exporter": "python",
   "pygments_lexer": "ipython3",
   "version": "3.8.8"
  }
 },
 "nbformat": 4,
 "nbformat_minor": 5
}
