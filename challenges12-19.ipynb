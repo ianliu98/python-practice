{
 "cells": [
  {
   "cell_type": "code",
   "execution_count": 3,
   "id": "b2c6eebb",
   "metadata": {},
   "outputs": [
    {
     "name": "stdout",
     "output_type": "stream",
     "text": [
      "Input the first number:\n",
      "18\n",
      "Input the second number:\n",
      "7\n",
      "7 18\n"
     ]
    }
   ],
   "source": [
    "num1 = int(input(\"Input the first number:\\n\"))\n",
    "num2 = int(input(\"Input the second number:\\n\"))\n",
    "if num1>num2:\n",
    "    print(num2, num1)\n",
    "else:\n",
    "    print(num1,num2)"
   ]
  },
  {
   "cell_type": "code",
   "execution_count": 5,
   "id": "fe1555e9",
   "metadata": {},
   "outputs": [
    {
     "name": "stdout",
     "output_type": "stream",
     "text": [
      "Input a number that is under 20: 89\n",
      "Too high\n"
     ]
    }
   ],
   "source": [
    "num = int(input(\"Input a number that is under 20: \"))\n",
    "if num>= 20:\n",
    "    print(\"Too high\")\n",
    "else:\n",
    "      print(\"Thank you\")  "
   ]
  },
  {
   "cell_type": "code",
   "execution_count": 7,
   "id": "8d2e453d",
   "metadata": {},
   "outputs": [
    {
     "name": "stdout",
     "output_type": "stream",
     "text": [
      "Input a number that is between 10 and 20(inclusive): 19\n",
      "Thank you\n"
     ]
    }
   ],
   "source": [
    "num = int(input(\"Input a number that is between 10 and 20(inclusive): \"))\n",
    "if num<10 or num>20:\n",
    "    print(\"Incorrect answer\")\n",
    "else:\n",
    "    print(\"Thank you\")"
   ]
  },
  {
   "cell_type": "code",
   "execution_count": 9,
   "id": "c0c51895",
   "metadata": {},
   "outputs": [
    {
     "name": "stdout",
     "output_type": "stream",
     "text": [
      "What is your favorate color?\n",
      "RED\n",
      "I like red too\n"
     ]
    }
   ],
   "source": [
    "color = input(\"What is your favorate color?\\n\")\n",
    "if color=='RED' or color=='red' or color=='Red':\n",
    "    print(\"I like red too\")\n",
    "else:\n",
    "    print(\"I don't like\",color,\"I prefer red\")"
   ]
  },
  {
   "cell_type": "code",
   "execution_count": 10,
   "id": "08ee3ca5",
   "metadata": {},
   "outputs": [
    {
     "name": "stdout",
     "output_type": "stream",
     "text": [
      "Is it raining right now?\n",
      "yes\n",
      "Is is windy?\n",
      "no\n",
      "Take an umbrella\n"
     ]
    }
   ],
   "source": [
    "rain = input(\"Is it raining right now?\\n\").lower()\n",
    "if rain=='yes':\n",
    "    windy = input(\"Is it windy?\\n\").lower()\n",
    "    if windy=='yes':\n",
    "        print(\"It is too windy for an umbrella\")\n",
    "    else:\n",
    "        print(\"Take an umbrella\")\n",
    "else:\n",
    "    print(\"Enjoy your day\")"
   ]
  }
 ],
 "metadata": {
  "kernelspec": {
   "display_name": "Python 3",
   "language": "python",
   "name": "python3"
  },
  "language_info": {
   "codemirror_mode": {
    "name": "ipython",
    "version": 3
   },
   "file_extension": ".py",
   "mimetype": "text/x-python",
   "name": "python",
   "nbconvert_exporter": "python",
   "pygments_lexer": "ipython3",
   "version": "3.8.8"
  }
 },
 "nbformat": 4,
 "nbformat_minor": 5
}
