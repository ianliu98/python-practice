{
 "cells": [
  {
   "cell_type": "code",
   "execution_count": 2,
   "id": "922ff2ae",
   "metadata": {},
   "outputs": [
    {
     "name": "stdout",
     "output_type": "stream",
     "text": [
      "Input a number: 14\n",
      "The total value is: 14\n",
      "Input a number: 23\n",
      "The total value is: 37\n",
      "Input a number: 23\n",
      "The total value is: 60\n"
     ]
    }
   ],
   "source": [
    "#045\n",
    "total = 0\n",
    "while total <= 50:\n",
    "    num = int(input(\"Input a number: \"))\n",
    "    total += num\n",
    "    print(\"The total value is:\", total)"
   ]
  },
  {
   "cell_type": "code",
   "execution_count": 3,
   "id": "9d944e09",
   "metadata": {},
   "outputs": [
    {
     "name": "stdout",
     "output_type": "stream",
     "text": [
      "Input a number: 2\n",
      "Input a number: 1\n",
      "Input a number: 4\n",
      "Input a number: 5\n",
      "Input a number: 6\n",
      "The last number you entered was a 6\n"
     ]
    }
   ],
   "source": [
    "#046\n",
    "num = 0\n",
    "while num<=5:\n",
    "    num = int(input(\"Input a number: \"))\n",
    "print(\"The last number you entered was a\", num)"
   ]
  },
  {
   "cell_type": "code",
   "execution_count": 6,
   "id": "f9687605",
   "metadata": {},
   "outputs": [
    {
     "name": "stdout",
     "output_type": "stream",
     "text": [
      "Input the first number: 13\n",
      "Input the second number: 34\n",
      "Do you want to add another number: [y]yes [n]no y\n",
      "Input another number: 345\n",
      "Do you want to add another number: [y]yes [n]no n\n",
      "The total value is: 392\n"
     ]
    }
   ],
   "source": [
    "#047\n",
    "total = 0\n",
    "num1 = int(input(\"Input the first number: \"))\n",
    "num2 = int(input(\"Input the second number: \"))\n",
    "total = num1 + num2\n",
    "ans = input(\"Do you want to add another number: [y]yes [n]no \")\n",
    "while ans=='y':\n",
    "    num = int(input(\"Input another number: \"))\n",
    "    total += num\n",
    "    ans = input(\"Do you want to add another number: [y]yes [n]no \")\n",
    "print(\"The total value is:\", total)"
   ]
  },
  {
   "cell_type": "code",
   "execution_count": 8,
   "id": "cf8298ec",
   "metadata": {},
   "outputs": [
    {
     "name": "stdout",
     "output_type": "stream",
     "text": [
      "Input name you want to invite: ian\n",
      "ian  now has been invited.\n",
      "Do you want to invite others?[y]yes [n]no: y\n",
      "Input name you want to invite: steffen\n",
      "steffen  now has been invited.\n",
      "Do you want to invite others?[y]yes [n]no: n\n",
      "2 ppl will come to the party!\n"
     ]
    }
   ],
   "source": [
    "#048\n",
    "invite = 'y'\n",
    "cnt = 0\n",
    "while invite=='y':\n",
    "    name = input(\"Input name you want to invite: \")\n",
    "    print(name, \" now has been invited.\")\n",
    "    cnt += 1\n",
    "    invite = input(\"Do you want to invite others?[y]yes [n]no: \")\n",
    "print(cnt, \"ppl will come to the party!\")"
   ]
  },
  {
   "cell_type": "code",
   "execution_count": 9,
   "id": "d30b3a3e",
   "metadata": {},
   "outputs": [
    {
     "name": "stdout",
     "output_type": "stream",
     "text": [
      "Guess a number: 34\n",
      "Too low\n",
      "Guess a number: 57\n",
      "Too high\n",
      "Guess a number: 53\n",
      "Too high\n",
      "Guess a number: 50\n",
      "Well done, you took 4  attempts.\n"
     ]
    }
   ],
   "source": [
    "#049\n",
    "compnum = 50\n",
    "cnt = 0\n",
    "guess = 0\n",
    "while guess!=compnum:\n",
    "    guess = int(input(\"Guess a number: \"))\n",
    "    cnt += 1\n",
    "    if guess < compnum:\n",
    "        print(\"Too low\")\n",
    "    elif guess > compnum:\n",
    "        print(\"Too high\")\n",
    "print(\"Well done, you took\", cnt, \" attempts.\")"
   ]
  },
  {
   "cell_type": "code",
   "execution_count": 10,
   "id": "e78ba4f9",
   "metadata": {},
   "outputs": [
    {
     "name": "stdout",
     "output_type": "stream",
     "text": [
      "Input a number: 3\n",
      "Too low\n",
      "Input a number: 134\n",
      "Too high\n",
      "Input a number: 34\n",
      "Too high\n",
      "Input a number: 29\n",
      "Too high\n",
      "Input a number: 19\n",
      "Thank you\n"
     ]
    }
   ],
   "source": [
    "#050\n",
    "value = 0\n",
    "while value<10 or value>20:\n",
    "    value = int(input(\"Input a number: \"))\n",
    "    if value<10:\n",
    "        print(\"Too low\")\n",
    "    elif value>20:\n",
    "        print(\"Too high\")\n",
    "    else:\n",
    "        print(\"Thank you\")"
   ]
  }
 ],
 "metadata": {
  "kernelspec": {
   "display_name": "Python 3",
   "language": "python",
   "name": "python3"
  },
  "language_info": {
   "codemirror_mode": {
    "name": "ipython",
    "version": 3
   },
   "file_extension": ".py",
   "mimetype": "text/x-python",
   "name": "python",
   "nbconvert_exporter": "python",
   "pygments_lexer": "ipython3",
   "version": "3.8.8"
  }
 },
 "nbformat": 4,
 "nbformat_minor": 5
}
