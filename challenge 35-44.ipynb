{
 "cells": [
  {
   "cell_type": "code",
   "execution_count": 2,
   "id": "fabe52fd",
   "metadata": {},
   "outputs": [
    {
     "name": "stdout",
     "output_type": "stream",
     "text": [
      "Input your name: ian\n",
      "ian\n",
      "ian\n",
      "ian\n"
     ]
    }
   ],
   "source": [
    "#035\n",
    "name = input(\"Input your name: \")\n",
    "for i in range(3):\n",
    "    print(name)"
   ]
  },
  {
   "cell_type": "code",
   "execution_count": 4,
   "id": "7ab9aa5c",
   "metadata": {},
   "outputs": [
    {
     "name": "stdout",
     "output_type": "stream",
     "text": [
      "Input your name: ian\n",
      "Inpur a number: 7\n",
      "ian\n",
      "ian\n",
      "ian\n",
      "ian\n",
      "ian\n",
      "ian\n",
      "ian\n"
     ]
    }
   ],
   "source": [
    "#036\n",
    "name = input(\"Input your name: \")\n",
    "num = int(input(\"Inpur a number: \"))\n",
    "for i in range(num):\n",
    "    print(name)"
   ]
  },
  {
   "cell_type": "code",
   "execution_count": 5,
   "id": "64ca3e9b",
   "metadata": {},
   "outputs": [
    {
     "name": "stdout",
     "output_type": "stream",
     "text": [
      "Input your name: ian\n",
      "i\n",
      "a\n",
      "n\n"
     ]
    }
   ],
   "source": [
    "#037\n",
    "name = input(\"Input your name: \")\n",
    "for i in name:\n",
    "    print(i)"
   ]
  },
  {
   "cell_type": "code",
   "execution_count": 6,
   "id": "fc165864",
   "metadata": {},
   "outputs": [
    {
     "name": "stdout",
     "output_type": "stream",
     "text": [
      "Input your name: ian\n",
      "Input a number: 3\n",
      "i\n",
      "a\n",
      "n\n",
      "i\n",
      "a\n",
      "n\n",
      "i\n",
      "a\n",
      "n\n"
     ]
    }
   ],
   "source": [
    "#038\n",
    "name = input(\"Input your name: \")\n",
    "num = int(input(\"Input a number: \"))\n",
    "for i in range(num):\n",
    "    for j in name:\n",
    "        print(j)"
   ]
  },
  {
   "cell_type": "code",
   "execution_count": 2,
   "id": "9f1c68dd",
   "metadata": {},
   "outputs": [
    {
     "name": "stdout",
     "output_type": "stream",
     "text": [
      "Input a number between 1 and 12:\n",
      "8\n",
      "0  x 8  = 0\n",
      "1  x 8  = 8\n",
      "2  x 8  = 16\n",
      "3  x 8  = 24\n",
      "4  x 8  = 32\n",
      "5  x 8  = 40\n",
      "6  x 8  = 48\n",
      "7  x 8  = 56\n",
      "8  x 8  = 64\n"
     ]
    }
   ],
   "source": [
    "#039\n",
    "num = int(input(\"Input a number between 1 and 12:\\n\"))\n",
    "for i in range(num+1):\n",
    "    print(i, \" x\", num, \" =\", i*num)\n"
   ]
  },
  {
   "cell_type": "code",
   "execution_count": 4,
   "id": "108208a8",
   "metadata": {},
   "outputs": [
    {
     "name": "stdout",
     "output_type": "stream",
     "text": [
      "Input a number below 50: 39\n",
      "Count down!\n",
      "50\n",
      "49\n",
      "48\n",
      "47\n",
      "46\n",
      "45\n",
      "44\n",
      "43\n",
      "42\n",
      "41\n",
      "40\n",
      "39\n"
     ]
    }
   ],
   "source": [
    "#040\n",
    "num = int(input(\"Input a number below 50: \"))\n",
    "print(\"Count down!\")\n",
    "for i in range(50,num-1,-1):\n",
    "    print(i)"
   ]
  },
  {
   "cell_type": "code",
   "execution_count": 8,
   "id": "c5d99e54",
   "metadata": {},
   "outputs": [
    {
     "name": "stdout",
     "output_type": "stream",
     "text": [
      "Input your name: ian\n",
      "Input a number: 11\n",
      "Too high\n",
      "Too high\n",
      "Too high\n"
     ]
    }
   ],
   "source": [
    "#041\n",
    "name = input(\"Input your name: \")\n",
    "num  = int(input(\"Input a number: \"))\n",
    "if num<10:\n",
    "    for i in range(num):\n",
    "        print(name,end=' ')\n",
    "else:\n",
    "    for i in range(3):\n",
    "        print(\"Too high\")"
   ]
  },
  {
   "cell_type": "code",
   "execution_count": 12,
   "id": "14b84045",
   "metadata": {},
   "outputs": [
    {
     "name": "stdout",
     "output_type": "stream",
     "text": [
      "Ready to input 5 numbers!\n",
      "number 1: 1342\n",
      "Do you want to include this number? [1]Yes [0]No :0\n",
      "number 2: 123414123\n",
      "Do you want to include this number? [1]Yes [0]No :0\n",
      "number 3: 1597180147091\n",
      "Do you want to include this number? [1]Yes [0]No :0\n",
      "number 4: 847509234578029\n",
      "Do you want to include this number? [1]Yes [0]No :0\n",
      "number 5: 1\n",
      "Do you want to include this number? [1]Yes [0]No :1\n",
      "The total value is 1\n"
     ]
    }
   ],
   "source": [
    "#042\n",
    "total = 0\n",
    "print(\"Ready to input 5 numbers!\")\n",
    "for i in range(5):\n",
    "    num = int(input(\"number \"+ str(i+1) + \": \"))\n",
    "    ans = int(input(\"Do you want to include this number? [1]Yes [0]No :\"))\n",
    "    if ans==1:\n",
    "        total = total + num\n",
    "print(\"The total value is\", total)"
   ]
  },
  {
   "cell_type": "code",
   "execution_count": 19,
   "id": "91ebb92d",
   "metadata": {},
   "outputs": [
    {
     "name": "stdout",
     "output_type": "stream",
     "text": [
      "[1] count up  [2] count down: 2\n",
      "Input a base number(smaller than 20): 3\n",
      "20 19 18 17 16 15 14 13 12 11 10 9 8 7 6 5 4 3 "
     ]
    }
   ],
   "source": [
    "#043\n",
    "cnt = int(input(\"[1] count up  [2] count down: \"))\n",
    "if cnt == 1:\n",
    "    num = int(input(\"Input a top number: \"))\n",
    "    for i in range(1,num+1):\n",
    "        print(i, end=' ')\n",
    "elif cnt == 2:\n",
    "    num = int(input(\"Input a base number(smaller than 20): \"))\n",
    "    for i in range(20,num-1,-1):\n",
    "        print(i, end=' ')\n",
    "else:\n",
    "    print(\"I don't understand!\")"
   ]
  },
  {
   "cell_type": "code",
   "execution_count": 21,
   "id": "7c7c7f24",
   "metadata": {},
   "outputs": [
    {
     "name": "stdout",
     "output_type": "stream",
     "text": [
      "How many ppl do you want to invite to your party?: 5\n",
      "Input name: ian\n",
      "ian  has been invited.\n",
      "Input name: tom\n",
      "tom  has been invited.\n",
      "Input name: jerry\n",
      "jerry  has been invited.\n",
      "Input name: kim\n",
      "kim  has been invited.\n",
      "Input name: steffen\n",
      "steffen  has been invited.\n"
     ]
    }
   ],
   "source": [
    "#044\n",
    "num = int(input(\"How many ppl do you want to invite to your party?: \"))\n",
    "if num<10:\n",
    "    for i in range(num):\n",
    "        name = input(\"Input name: \")\n",
    "        print(name, \" has been invited.\")\n",
    "else:\n",
    "    print(\"Too many people\")"
   ]
  }
 ],
 "metadata": {
  "kernelspec": {
   "display_name": "Python 3",
   "language": "python",
   "name": "python3"
  },
  "language_info": {
   "codemirror_mode": {
    "name": "ipython",
    "version": 3
   },
   "file_extension": ".py",
   "mimetype": "text/x-python",
   "name": "python",
   "nbconvert_exporter": "python",
   "pygments_lexer": "ipython3",
   "version": "3.8.8"
  }
 },
 "nbformat": 4,
 "nbformat_minor": 5
}
