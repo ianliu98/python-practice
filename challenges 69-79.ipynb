{
 "cells": [
  {
   "cell_type": "code",
   "execution_count": 5,
   "id": "7f10422c",
   "metadata": {},
   "outputs": [
    {
     "name": "stdout",
     "output_type": "stream",
     "text": [
      "('China', 'Japan', 'Russia', 'America', 'Brazil')\n",
      "Enter a country: America\n",
      "The index of America  is 3\n"
     ]
    }
   ],
   "source": [
    "#069\n",
    "country = (\"China\", \"Japan\", \"Russia\", \"America\", \"Brazil\")\n",
    "print(country)\n",
    "choice = input(\"Enter a country: \")\n",
    "print(\"The index of\", choice, \" is\", country.index(choice))"
   ]
  },
  {
   "cell_type": "code",
   "execution_count": 6,
   "id": "fb682d0a",
   "metadata": {},
   "outputs": [
    {
     "name": "stdout",
     "output_type": "stream",
     "text": [
      "('China', 'Japan', 'Russia', 'America', 'Brazil')\n",
      "Enter a country: Brazil\n",
      "The index of Brazil  is 4\n",
      "Enter a position number: 1\n",
      "The country at position 1  is Japan\n"
     ]
    }
   ],
   "source": [
    "#070\n",
    "country = (\"China\", \"Japan\", \"Russia\", \"America\", \"Brazil\")\n",
    "print(country)\n",
    "choice = input(\"Enter a country: \")\n",
    "print(\"The index of\", choice, \" is\", country.index(choice))\n",
    "\n",
    "posi = int(input(\"Enter a position number: \"))\n",
    "print(\"The country at position\",posi,\" is\",country[posi])"
   ]
  },
  {
   "cell_type": "code",
   "execution_count": 8,
   "id": "4d534342",
   "metadata": {},
   "outputs": [
    {
     "name": "stdout",
     "output_type": "stream",
     "text": [
      "What is your favorite sport? volleyball\n",
      "['basketball', 'football', 'volleyball']\n"
     ]
    }
   ],
   "source": [
    "#071\n",
    "sports_list = [\"football\", \"basketball\"]\n",
    "ans = input(\"What is your favorite sport? \")\n",
    "sports_list.append(ans)\n",
    "print(sorted(sports_list))"
   ]
  },
  {
   "cell_type": "code",
   "execution_count": 17,
   "id": "1cd12f2c",
   "metadata": {},
   "outputs": [
    {
     "name": "stdout",
     "output_type": "stream",
     "text": [
      "['chinese', 'english', 'japanese', 'sports', 'music', 'math']\n",
      "Which one you don't like?\n",
      "english\n",
      "subjects left are ['chinese', 'japanese', 'sports', 'music', 'math']\n"
     ]
    }
   ],
   "source": [
    "#072\n",
    "subjects = ['chinese', 'english', 'japanese', 'sports', 'music', 'math']\n",
    "print(subjects)\n",
    "choose = input(\"Which one you don't like?\\n\")\n",
    "subjects.remove(choose)\n",
    "print(\"subjects left are\", subjects)"
   ]
  },
  {
   "cell_type": "code",
   "execution_count": 21,
   "id": "abfbcd9e",
   "metadata": {},
   "outputs": [
    {
     "name": "stdout",
     "output_type": "stream",
     "text": [
      "Enter four of your favourite food:\n",
      "\n",
      "No.1: beaf\n",
      "No.2: meat\n",
      "No.3: carrot\n",
      "No.4: tomato\n",
      "All foods are dict_items([('1', 'beaf'), ('2', 'meat'), ('3', 'carrot'), ('4', 'tomato')])\n",
      "Which one do you want to get rid of: 2\n",
      "Foods left are {'1': 'beaf', '3': 'carrot', '4': 'tomato'}\n"
     ]
    }
   ],
   "source": [
    "#073\n",
    "Dic = {}\n",
    "print(\"Enter four of your favourite food:\\n\")\n",
    "for i in range(1,5):\n",
    "    food = input(\"No.\"+str(i)+\": \")\n",
    "    Dic[str(i)] = food\n",
    "print(\"All foods are\", Dic.items())\n",
    "choose = input(\"Which one do you want to get rid of: \")\n",
    "Dic.pop(choose)\n",
    "print(\"Foods left are\", Dic)"
   ]
  },
  {
   "cell_type": "code",
   "execution_count": 22,
   "id": "0ed19050",
   "metadata": {},
   "outputs": [
    {
     "name": "stdout",
     "output_type": "stream",
     "text": [
      "Enter 10 colors: \n",
      "\n",
      "No.1: red\n",
      "No.2: blue\n",
      "No.3: yellow\n",
      "No.4: green\n",
      "No.5: black\n",
      "No.6: white\n",
      "No.7: purple\n",
      "No.8: orange\n",
      "No.9: pink\n",
      "No.10: grey\n",
      "Colors are ['red', 'blue', 'yellow', 'green', 'black', 'white', 'purple', 'orange', 'pink', 'grey']\n",
      "Enter a number between 0 and 4: 2\n",
      "Enter a number between 5 and 9: 7\n",
      "The colors between 2 and 7  are ['yellow', 'green', 'black', 'white', 'purple']\n"
     ]
    }
   ],
   "source": [
    "#074\n",
    "print(\"Enter 10 colors: \\n\")\n",
    "colors = []\n",
    "for i in range(1,11):\n",
    "    color = input(\"No.\"+str(i)+\": \")\n",
    "    colors.append(color)\n",
    "print(\"Colors are\", colors)\n",
    "start = int(input(\"Enter a number between 0 and 4: \"))\n",
    "end = int(input(\"Enter a number between 5 and 9: \"))\n",
    "print(\"The colors between\", start, \"and\", end, \" are\", colors[start:end])"
   ]
  },
  {
   "cell_type": "code",
   "execution_count": 28,
   "id": "35681165",
   "metadata": {},
   "outputs": [
    {
     "name": "stdout",
     "output_type": "stream",
     "text": [
      "123\n",
      "234\n",
      "345\n",
      "456\n",
      "Enter a number with three digits: 678\n",
      "That is not in the list\n"
     ]
    }
   ],
   "source": [
    "#075\n",
    "numbers = [123,234,345,456]\n",
    "for i in range(4):\n",
    "    print(numbers[i])\n",
    "enter = int(input(\"Enter a number with three digits: \"))\n",
    "if enter in numbers:\n",
    "    print(\"The position of\", enter, \" is\", ind)\n",
    "else:\n",
    "    print(\"That is not in the list\")"
   ]
  },
  {
   "cell_type": "code",
   "execution_count": 33,
   "id": "e16f0e7c",
   "metadata": {},
   "outputs": [
    {
     "name": "stdout",
     "output_type": "stream",
     "text": [
      "Enter the names of three ppl you want to invite to a party: \n",
      "\n",
      "Enter a name: ian\n",
      "Enter a name: ice\n",
      "Enter a name: anuk\n",
      "Do you want to add more ppl? yes/noyes\n",
      "Enter a name: charlie\n",
      "Do you want to add more ppl? yes/noyes\n",
      "Enter a name: zebra\n",
      "Do you want to add more ppl? yes/nono\n",
      "There are 5 ppl you have invited. They are \n",
      " ['ian', 'ice', 'anuk', 'charlie', 'zebra']\n"
     ]
    }
   ],
   "source": [
    "#076\n",
    "print(\"Enter the names of three ppl you want to invite to a party: \\n\")\n",
    "names = []\n",
    "for i in range(3):\n",
    "    name = input(\"Enter a name: \")\n",
    "    names.append(name)\n",
    "more = input(\"Do you want to add more ppl? yes/no\")\n",
    "while more!='no':\n",
    "    name = input(\"Enter a name: \")\n",
    "    names.append(name)\n",
    "    more = input(\"Do you want to add more ppl? yes/no\")\n",
    "print(\"There are\", len(names), \"ppl you have invited. They are \\n\", names)"
   ]
  },
  {
   "cell_type": "code",
   "execution_count": 34,
   "id": "a3123de7",
   "metadata": {},
   "outputs": [
    {
     "name": "stdout",
     "output_type": "stream",
     "text": [
      "Enter the names of three ppl you want to invite to a party: \n",
      "\n",
      "Enter a name: ian\n",
      "Enter a name: anuk\n",
      "Enter a name: ice\n",
      "Do you want to add more ppl? yes/noyes\n",
      "Enter a name: charlie\n",
      "Do you want to add more ppl? yes/noyes\n",
      "Enter a name: zebra\n",
      "Do you want to add more ppl? yes/nono\n",
      "There are 5 ppl you have invited. They are \n",
      " ['ian', 'anuk', 'ice', 'charlie', 'zebra']\n",
      "\n",
      "\n",
      "Type one of the names on the list: zebra\n",
      "Do you still want zebra to come to this party? yes/no no\n",
      "['ian', 'anuk', 'ice', 'charlie']  will come to the party eventually\n"
     ]
    }
   ],
   "source": [
    "#077\n",
    "print(\"Enter the names of three ppl you want to invite to a party: \\n\")\n",
    "names = []\n",
    "for i in range(3):\n",
    "    name = input(\"Enter a name: \")\n",
    "    names.append(name)\n",
    "more = input(\"Do you want to add more ppl? yes/no\")\n",
    "while more!='no':\n",
    "    name = input(\"Enter a name: \")\n",
    "    names.append(name)\n",
    "    more = input(\"Do you want to add more ppl? yes/no\")\n",
    "print(\"There are\", len(names), \"ppl you have invited. They are \\n\", names)\n",
    "print(\"\\n\")\n",
    "choose = input(\"Type one of the names on the list: \")\n",
    "ans = input(\"Do you still want \" + choose + \" to come to this party? yes/no \")\n",
    "if ans == 'no':\n",
    "    names.remove(choose)\n",
    "print(names, \" will come to the party eventually\")"
   ]
  },
  {
   "cell_type": "code",
   "execution_count": 35,
   "id": "cabd4764",
   "metadata": {},
   "outputs": [
    {
     "name": "stdout",
     "output_type": "stream",
     "text": [
      "Breaking Bad\n",
      "Game of Thrones\n",
      "Friends\n",
      "House of Cards\n",
      "Enter another TV program: The Big Bang Theory\n",
      "Which place do you want to inset? 0~4 3\n",
      "Final TV programs are ['Breaking Bad', 'Game of Thrones', 'Friends', 'The Big Bang Theory', 'House of Cards']\n"
     ]
    }
   ],
   "source": [
    "#078\n",
    "programs = ['Breaking Bad', 'Game of Thrones', 'Friends', 'House of Cards']\n",
    "for i in programs:\n",
    "    print(i)\n",
    "insert = input(\"Enter another TV program: \")\n",
    "position = int(input(\"Which place do you want to inset? 0~4 \"))\n",
    "programs.insert(position,insert)\n",
    "print(\"Final TV programs are\", programs)"
   ]
  },
  {
   "cell_type": "code",
   "execution_count": 36,
   "id": "304a39ff",
   "metadata": {},
   "outputs": [
    {
     "name": "stdout",
     "output_type": "stream",
     "text": [
      "Enter a number: 1234\n",
      "Enter a number: 2435\n",
      "Enter a number: 23455\n",
      "Do you still want the last number saved? yes/nono\n",
      "The numbers are [1234, 2435]\n"
     ]
    }
   ],
   "source": [
    "#079\n",
    "nums = []\n",
    "for i in range(3):\n",
    "    num = int(input(\"Enter a number: \"))\n",
    "    nums.append(num)\n",
    "ans = input(\"Do you still want the last number saved? yes/no\")\n",
    "if ans=='no':\n",
    "    nums.pop()\n",
    "    print(\"The numbers are\", nums)\n",
    "else:\n",
    "    print(\"The numbers are\", nums)"
   ]
  }
 ],
 "metadata": {
  "kernelspec": {
   "display_name": "Python 3",
   "language": "python",
   "name": "python3"
  },
  "language_info": {
   "codemirror_mode": {
    "name": "ipython",
    "version": 3
   },
   "file_extension": ".py",
   "mimetype": "text/x-python",
   "name": "python",
   "nbconvert_exporter": "python",
   "pygments_lexer": "ipython3",
   "version": "3.8.8"
  }
 },
 "nbformat": 4,
 "nbformat_minor": 5
}
